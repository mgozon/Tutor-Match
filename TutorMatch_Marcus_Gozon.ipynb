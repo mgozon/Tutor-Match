{
  "nbformat": 4,
  "nbformat_minor": 0,
  "metadata": {
    "colab": {
      "name": "TutorMatch - Marcus Gozon.ipynb",
      "provenance": [],
      "include_colab_link": true
    },
    "kernelspec": {
      "name": "python3",
      "display_name": "Python 3"
    }
  },
  "cells": [
    {
      "cell_type": "markdown",
      "metadata": {
        "id": "view-in-github",
        "colab_type": "text"
      },
      "source": [
        "<a href=\"https://colab.research.google.com/github/mgozon/Tutor-Match/blob/master/TutorMatch_Marcus_Gozon.ipynb\" target=\"_parent\"><img src=\"https://colab.research.google.com/assets/colab-badge.svg\" alt=\"Open In Colab\"/></a>"
      ]
    },
    {
      "cell_type": "markdown",
      "metadata": {
        "id": "y4CmjH9eIYJV"
      },
      "source": [
        "#Tutor Match\n",
        "\n",
        "This program will take in a list of tutors and students (names, classes, times), output the possible matches, and gives a possible maximal matching. Comment in or out the shuffle to get different matchings."
      ]
    },
    {
      "cell_type": "markdown",
      "metadata": {
        "id": "g9LMDhvwJApP"
      },
      "source": [
        "You may want to create a systematic way of assigning numbers to each class. Fix the dictionary in the cpp file."
      ]
    },
    {
      "cell_type": "markdown",
      "metadata": {
        "id": "X6lMuJEcJaBT"
      },
      "source": [
        "#Program"
      ]
    },
    {
      "cell_type": "code",
      "metadata": {
        "id": "323r3jvBIQ2f",
        "outputId": "d5538b7a-bfd6-4567-f3de-f3fc4e6e96aa",
        "colab": {
          "base_uri": "https://localhost:8080/",
          "height": 34
        }
      },
      "source": [
        "%%writefile tutormatch.cpp\n",
        "\n",
        "#include <iostream>\n",
        "#include <vector>\n",
        "#include <string>\n",
        "#include <fstream>\n",
        "#include <algorithm>\n",
        "#include <climits>\n",
        "#include <cstdlib>\n",
        "#include <cstdio>\n",
        "#include <set>\n",
        "#include <unordered_set>\n",
        "#include <map>\n",
        "#include <unordered_map>\n",
        "#include <bitset>\n",
        "#include <deque>\n",
        "#include <queue>\n",
        "#include <tuple>\n",
        "#include <cmath>\n",
        "#include <cctype>\n",
        "#include <stack>\n",
        "#include <random>\n",
        "#include <chrono>\n",
        "\n",
        "using namespace std;\n",
        "\n",
        "typedef long long ll;\n",
        "typedef vector<int> vi;\n",
        "typedef pair<int, int> pi;\n",
        "typedef vector<pair<int, int>> vii;\n",
        "\n",
        "unordered_map<string, int> classMap ({\n",
        "    { \"ALG1\", 01},\n",
        "    { \"GEO\", 02},\n",
        "    { \"ALG2\", 03},\n",
        "    { \"PCALC\", 04},\n",
        "    { \"CALC\", 05},\n",
        "    { \"STATS\", 06},\n",
        "    { \"CSA\", 07},\n",
        "    { \"MAD\", 8},\n",
        "\n",
        "    { \"BIO\", 11},\n",
        "    { \"EARTH\", 12},\n",
        "    { \"CHEM1\", 13},\n",
        "    { \"APES\", 14},\n",
        "    { \"APCHEM\", 15},\n",
        "    { \"APBIO\", 16},\n",
        "    { \"APPHYS\", 17},\n",
        "    { \"PHYS1\", 18},\n",
        "\n",
        "    { \"WORLD\", 21},\n",
        "    { \"USH\", 22},\n",
        "    { \"ECON\", 23},\n",
        "    { \"GOVT\", 24},\n",
        "    { \"PSYCH\", 25},\n",
        "    { \"HUMANITIES\", 26},\n",
        "\n",
        "    { \"ENG9\", 31},\n",
        "    { \"ENG10\", 32},\n",
        "    { \"APLANG\", 33},\n",
        "    { \"APLIT\", 34},\n",
        "    { \"ALIT\", 35},\n",
        "    { \"CWL\", 36}\n",
        "});\n",
        "\n",
        "unordered_map<int, string> rclassMap;\n",
        "\n",
        "struct tp {\n",
        "    string name;\n",
        "    vector<int> sub;\n",
        "    vector<int> times;\n",
        "};\n",
        "\n",
        "tp trs[1000]; // tutor info\n",
        "tp sts[1000]; // student info\n",
        "int n, m; // tutor count, student count\n",
        "vector<pair<int, int>> adj[1000];\n",
        "unordered_map<int, int> idx[1000];\n",
        "ifstream fin(\"tutor.in\");\n",
        "ofstream fout(\"tutor.out\");\n",
        "\n",
        "bool vis[1000] = {false};\n",
        "deque<int> path;\n",
        "bool found = false;\n",
        "\n",
        "vector<int> share(vector<int>& u, vector<int>& v) {\n",
        "    vector<int> res;\n",
        "    for (int a = 0, b = 0; a < u.size() && b < v.size();) {\n",
        "        if (u[a] == v[b]) { res.push_back(u[a]); a++; b++; }\n",
        "        else if (u[a] < v[b]) a++;\n",
        "        else b++;\n",
        "    }\n",
        "    return res;\n",
        "}\n",
        "\n",
        "void debugInput() {\n",
        "    cout << \"Testing input data\" << endl;\n",
        "    cout << \"Tutors\" << endl;\n",
        "    for (int i = 0; i < n; i++) {\n",
        "        cout << i << \": \" << trs[i].name << endl;\n",
        "        for (auto x : trs[i].sub) cout << rclassMap[x] << \" \"; cout << endl;\n",
        "        for (auto x : trs[i].times) cout << x << \" \"; cout << endl;\n",
        "        cout << endl;\n",
        "    }\n",
        "    cout << \"Students\" << endl;\n",
        "    for (int i = 0; i < m; i++) {\n",
        "        cout << i << \": \" << sts[i].name << endl;\n",
        "        for (auto x : sts[i].sub) cout << rclassMap[x] << \" \"; cout << endl;\n",
        "        for (auto x : sts[i].times) cout << x << \" \"; cout << endl;\n",
        "        cout << endl;\n",
        "    }\n",
        "}\n",
        "\n",
        "void debugGraph() {\n",
        "    cout << \"Validating graph\" << endl;\n",
        "    for (int i = 0; i <= n+m+1; i++) {\n",
        "        cout << i << \": \";\n",
        "        for (auto x : adj[i]) cout << \"(\" << x.first << \", \" << x.second << \") \";\n",
        "        cout << endl;\n",
        "    }\n",
        "    cout << endl << \"Graph by Names\" << endl;\n",
        "    for (int i = 1; i <= n; i++) {\n",
        "        cout << trs[i-1].name << \": \";\n",
        "        for (auto x : adj[i]) \n",
        "            if (x.first != 0)\n",
        "                cout << \"(\" << sts[x.first-n-1].name << \", \" << x.second << \") \";\n",
        "        cout << endl;\n",
        "    }\n",
        "    for (int i = n+1; i <= n+m; i++) {\n",
        "        cout << sts[i-n-1].name << \": \";\n",
        "        for (auto x : adj[i])\n",
        "            if (x.first != n+m+1)\n",
        "                cout << \"(\" << trs[x.first-1].name << \", \" << x.second << \") \";\n",
        "        cout << endl;\n",
        "    }\n",
        "}\n",
        "\n",
        "void writeConnections(ostream& pout) {\n",
        "    pout << \"Tutors: \\n\" << endl;\n",
        "    for (int i = 0; i < n; i++) {\n",
        "        pout << trs[i].name << \": \" << endl;\n",
        "        for (auto x : adj[i+1])\n",
        "            if (x.first >= n+1 && x.first <= n+m) {\n",
        "                int j = x.first-n-1;\n",
        "                pout << sts[j].name << \" (\";\n",
        "                vector<int> ss = share(trs[i].sub, sts[j].sub);\n",
        "                for (int x = 0; x < ss.size()-1; x++) pout << rclassMap[ss[x]] << \", \";\n",
        "                pout << rclassMap[ss.back()] << \") \";\n",
        "                vector<int> ts = share(trs[i].times, sts[j].times);\n",
        "                pout << \"(\";\n",
        "                for (int x = 0; x < ts.size()-1; x++) pout << ts[x] << \", \";\n",
        "                pout << ts.back() << \")\" << endl;\n",
        "            }\n",
        "\n",
        "        pout << endl;\n",
        "    }\n",
        "    pout << \"Students: \\n\" << endl;\n",
        "    for (int j = 0; j < m; j++) {\n",
        "        pout << sts[j].name << \": \" << endl;\n",
        "        for (auto x : adj[1+n+j])\n",
        "            if (x.first >= 1 && x.first <= n) {\n",
        "                int i = x.first-1;\n",
        "                vector<int> ss = share(trs[i].sub, sts[j].sub);\n",
        "                pout << trs[i].name << \" (\";\n",
        "                for (int x = 0; x < ss.size()-1; x++) pout << rclassMap[ss[x]] << \", \";\n",
        "                pout << rclassMap[ss.back()] << \") \";\n",
        "                vector<int> ts = share(trs[i].times, sts[j].times);\n",
        "                pout << \"(\";\n",
        "                for (int x = 0; x < ts.size()-1; x++) pout << ts[x] << \", \";\n",
        "                pout << ts.back() << \")\" << endl;\n",
        "            }\n",
        "        pout << endl;\n",
        "    }\n",
        "}\n",
        "\n",
        "void dfs(int u) {\n",
        "    if (vis[u] || found) return;\n",
        "    if (u==n+m+1) {\n",
        "        found = true;\n",
        "        return;\n",
        "    }\n",
        "    vis[u] = true;\n",
        "    for (auto x : adj[u]) {\n",
        "        if (x.second == 0) continue;\n",
        "        path.push_back(x.first);\n",
        "        dfs(x.first);\n",
        "        if (found) break;\n",
        "        path.pop_back();\n",
        "    }\n",
        "    vis[u] = false;\n",
        "}\n",
        "\n",
        "void writeMaximalMatch(ostream& pout, int num) {\n",
        "    pout << \"We can match at most \" << num << \" students\" << endl;\n",
        "    pout << \"Tutors: \" << endl;\n",
        "    for (int i = 1; i <= n; i++) {\n",
        "        pout << trs[i-1].name << \": \";\n",
        "        for (auto x : adj[i]) { // we will print out all matches to debug\n",
        "            if (x.first == 0 || x.second == 1) continue;\n",
        "            pout << sts[x.first-n-1].name << \" \";\n",
        "        }\n",
        "        pout << endl;\n",
        "    }\n",
        "    pout << endl << \"Students: \" << endl;\n",
        "    for (int i = n+1; i <= n+m; i++) {\n",
        "        pout << sts[i-n-1].name << \": \";\n",
        "        for (auto x : adj[i]) { // again we print out all matches to debug\n",
        "            if (x.first == n+m+1 || x.second == 0) continue;\n",
        "            pout << trs[x.first-1].name << \" \";\n",
        "        }\n",
        "        pout << endl;\n",
        "    }\n",
        "    pout << endl;\n",
        "}\n",
        "\n",
        "void divide(ostream& pout) {\n",
        "    pout << \"----------------------------------------\" << endl;\n",
        "}\n",
        "\n",
        "int main() {\n",
        "    \n",
        "    for (auto x : classMap) {\n",
        "        rclassMap[x.second] = x.first;\n",
        "    }\n",
        "\n",
        "    // read input data\n",
        "    fin >> n;\n",
        "    for (int i = 0; i < n; i++) {\n",
        "        string name;\n",
        "        fin.ignore(100, '\\n');\n",
        "        getline(fin, name);\n",
        "        name.erase(remove(name.begin(), name.end(), '\\r'), name.end());\n",
        "        name.erase(remove(name.begin(), name.end(), '\\n'), name.end());\n",
        "        trs[i].name = name;\n",
        "        int cls, tms;\n",
        "        fin >> cls >> tms;\n",
        "\n",
        "        string cn;\n",
        "        for (int j = 0; j < cls; j++) {\n",
        "            fin >> cn;\n",
        "            trs[i].sub.push_back(classMap[cn]);\n",
        "        }\n",
        "\n",
        "        int tm;\n",
        "        for (int j = 0; j < tms; j++) {\n",
        "            fin >> tm;\n",
        "            trs[i].times.push_back(tm);\n",
        "        }\n",
        "\n",
        "        sort(trs[i].sub.begin(), trs[i].sub.end());\n",
        "        sort(trs[i].times.begin(), trs[i].times.end());\n",
        "    }\n",
        "\n",
        "    fin >> m;\n",
        "    for (int i = 0; i < m; i++) {\n",
        "        string name;\n",
        "        fin.ignore(100, '\\n');\n",
        "        getline(fin, name);\n",
        "        name.erase(remove(name.begin(), name.end(), '\\r'), name.end());\n",
        "        name.erase(remove(name.begin(), name.end(), '\\n'), name.end());\n",
        "        sts[i].name = name;\n",
        "        int cls, tms;\n",
        "        fin >> cls >> tms;\n",
        "\n",
        "        string cn;\n",
        "        for (int j = 0; j < cls; j++) {\n",
        "            fin >> cn;\n",
        "            sts[i].sub.push_back(classMap[cn]);\n",
        "        }\n",
        "\n",
        "        int tm;\n",
        "        for (int j = 0; j < tms; j++) {\n",
        "            fin >> tm;\n",
        "            sts[i].times.push_back(tm);\n",
        "        }\n",
        "\n",
        "        sort(sts[i].sub.begin(), sts[i].sub.end());\n",
        "        sort(sts[i].times.begin(), sts[i].times.end());\n",
        "    }\n",
        "\n",
        "    // verify data transfer\n",
        "    debugInput();\n",
        "\n",
        "    // *OPTIONAL shuffle data for different maximal matchings\n",
        "    mt19937 rng(chrono::steady_clock::now().time_since_epoch().count());\n",
        "    shuffle(trs, trs+n, rng);\n",
        "    shuffle(sts, sts+m, rng);\n",
        "\n",
        "    // build graph (connections represent matches between tutors and students)\n",
        "    // 0 = source, [1, n] = tutors, [n+1, n+m] = students, n+m+1 = sink\n",
        "    for (int i = 1; i <= n; i++) {\n",
        "        adj[0].push_back({i, 1});\n",
        "        adj[i].push_back({0, 0});\n",
        "        idx[0][i] = adj[0].size()-1;\n",
        "        idx[i][0] = adj[i].size()-1;\n",
        "    }\n",
        "\n",
        "    for (int i = n+1; i <= n+m; i++) {\n",
        "        adj[i].push_back({n+m+1, 1});\n",
        "        adj[n+m+1].push_back({i, 0});\n",
        "        idx[i][n+m+1] = adj[i].size()-1;\n",
        "        idx[n+m+1][i] = adj[n+m+1].size()-1;\n",
        "    }\n",
        "\n",
        "    for (int i = 0; i < n; i++) {\n",
        "        for (int j = 0; j < m; j++) {\n",
        "            if (share(trs[i].sub, sts[j].sub).size() == 0) continue;\n",
        "            if (share(trs[i].times, sts[j].times).size() == 0) continue;\n",
        "\n",
        "            adj[1+i].push_back({1+n+j, 1});\n",
        "            adj[1+n+j].push_back({1+i, 0});\n",
        "            idx[1+i][1+n+j] = adj[1+i].size()-1;\n",
        "            idx[1+n+j][1+i] = adj[1+n+j].size()-1;\n",
        "        }\n",
        "    }\n",
        "\n",
        "    // verify connections\n",
        "    debugGraph();\n",
        "\n",
        "    // print matching data\n",
        "    writeConnections(fout);\n",
        "    divide(fout);\n",
        "\n",
        "    // Finally the optimal matching algorithm\n",
        "    // Keep on running dfs to find more paths and update the graph until no more\n",
        "    int best = 0;\n",
        "    while (true) {\n",
        "        //memset(vis, false, n+m+2);\n",
        "        path.clear();\n",
        "        found = false;\n",
        "        dfs(0);\n",
        "        if (found == false) break;\n",
        "\n",
        "        int src = 0, next = path.front();\n",
        "        path.pop_front();\n",
        "        while (true) {\n",
        "            adj[src][idx[src][next]].second--;\n",
        "            adj[next][idx[next][src]].second++;\n",
        "\n",
        "            if (path.size() == 0) break;\n",
        "            src = next;\n",
        "            next = path.front();\n",
        "            path.pop_front();\n",
        "        }\n",
        "        best++;\n",
        "    }\n",
        "\n",
        "    writeMaximalMatch(fout, best);\n",
        "\n",
        "    cout << \"Here is what your document will look like: \" << endl;\n",
        "    writeConnections(cout);\n",
        "    divide(cout);\n",
        "    writeMaximalMatch(cout, best);\n",
        "\n",
        "    return 0;\n",
        "}"
      ],
      "execution_count": null,
      "outputs": [
        {
          "output_type": "stream",
          "text": [
            "Writing tutormatch.cpp\n"
          ],
          "name": "stdout"
        }
      ]
    },
    {
      "cell_type": "markdown",
      "metadata": {
        "id": "u1KhQ98_NN6_"
      },
      "source": [
        "#Upload Input File\n",
        "\n",
        "They should be in the following format, with an example below:"
      ]
    },
    {
      "cell_type": "code",
      "metadata": {
        "id": "z1Dq2tHSQ3H1",
        "outputId": "97ba039d-74d9-411e-8aaa-1a989266632f",
        "colab": {
          "base_uri": "https://localhost:8080/",
          "height": 34
        }
      },
      "source": [
        "%%writefile inputformat.in\n",
        "\n",
        "(# tutors)\n",
        "name1\n",
        "(# classes) (# times)\n",
        "class1 ... class(classes)\n",
        "time1 ... time(times)\n",
        "name 2\n",
        "...\n",
        "(#students)\n",
        "name1\n",
        "(# classes) (#times)\n",
        "class1 ... class(classes)\n",
        "time1 ... time(times)\n",
        "name2 ..."
      ],
      "execution_count": null,
      "outputs": [
        {
          "output_type": "stream",
          "text": [
            "Writing inputformat.in\n"
          ],
          "name": "stdout"
        }
      ]
    },
    {
      "cell_type": "code",
      "metadata": {
        "id": "jYAe7jsjP3_0",
        "outputId": "9138f002-03e7-4664-adf2-15714bcc3ce5",
        "colab": {
          "base_uri": "https://localhost:8080/",
          "height": 34
        }
      },
      "source": [
        "%%writefile dinput.in\n",
        "\n",
        "1\n",
        "Marcus Gozon\n",
        "2 2\n",
        "CALC CSA\n",
        "2 3\n",
        "2\n",
        "Arnav Brahmasandra\n",
        "2 3\n",
        "CALC APBIO\n",
        "10 2 3\n",
        "Charlie Clynes\n",
        "1 1\n",
        "CALC\n",
        "3"
      ],
      "execution_count": null,
      "outputs": [
        {
          "output_type": "stream",
          "text": [
            "Writing dinput.in\n"
          ],
          "name": "stdout"
        }
      ]
    },
    {
      "cell_type": "code",
      "metadata": {
        "id": "Q3YOKhFRQOal",
        "outputId": "d9dce025-2879-4c3b-a21c-16c57019b4e5",
        "colab": {
          "resources": {
            "http://localhost:8080/nbextensions/google.colab/files.js": {
              "data": "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",
              "ok": true,
              "headers": [
                [
                  "content-type",
                  "application/javascript"
                ]
              ],
              "status": 200,
              "status_text": ""
            }
          },
          "base_uri": "https://localhost:8080/",
          "height": 106
        }
      },
      "source": [
        "from google.colab import files\n",
        "!rm tutor.in\n",
        "files.upload()\n",
        "%ls"
      ],
      "execution_count": null,
      "outputs": [
        {
          "output_type": "stream",
          "text": [
            "rm: cannot remove 'tutor.in': No such file or directory\n"
          ],
          "name": "stdout"
        },
        {
          "output_type": "display_data",
          "data": {
            "text/html": [
              "\n",
              "     <input type=\"file\" id=\"files-27bafe17-6c8e-4668-b9eb-9ef90aa6cdb8\" name=\"files[]\" multiple disabled\n",
              "        style=\"border:none\" />\n",
              "     <output id=\"result-27bafe17-6c8e-4668-b9eb-9ef90aa6cdb8\">\n",
              "      Upload widget is only available when the cell has been executed in the\n",
              "      current browser session. Please rerun this cell to enable.\n",
              "      </output>\n",
              "      <script src=\"/nbextensions/google.colab/files.js\"></script> "
            ],
            "text/plain": [
              "<IPython.core.display.HTML object>"
            ]
          },
          "metadata": {
            "tags": []
          }
        },
        {
          "output_type": "stream",
          "text": [
            "Saving tutor.in to tutor.in\n",
            "\u001b[0m\u001b[01;34msample_data\u001b[0m/  tutor.in\n"
          ],
          "name": "stdout"
        }
      ]
    },
    {
      "cell_type": "markdown",
      "metadata": {
        "id": "qWrnErhENA-1"
      },
      "source": [
        "#Run Program"
      ]
    },
    {
      "cell_type": "code",
      "metadata": {
        "id": "llwm9w9_JvGk",
        "outputId": "f52a168a-8db4-4dc3-fad6-50b827bc29c4",
        "colab": {
          "base_uri": "https://localhost:8080/",
          "height": 1000
        }
      },
      "source": [
        "%%script bash\n",
        "\n",
        "g++ tutormatch.cpp -o name\n",
        "ls -laX\n",
        "./name"
      ],
      "execution_count": null,
      "outputs": [
        {
          "output_type": "stream",
          "text": [
            "total 264\n",
            "-rwxr-xr-x 1 root root 215016 Oct 18 21:32 name\n",
            "drwxr-xr-x 1 root root   4096 Oct 14 16:31 sample_data\n",
            "drwxr-xr-x 1 root root   4096 Oct 18 21:32 .\n",
            "drwxr-xr-x 1 root root   4096 Oct 18 19:16 ..\n",
            "drwxr-xr-x 1 root root   4096 Oct 14 16:32 .config\n",
            "-rw-r--r-- 1 root root   9752 Oct 18 21:08 tutormatch.cpp\n",
            "-rw-r--r-- 1 root root    101 Oct 18 19:46 dinput.in\n",
            "-rw-r--r-- 1 root root    195 Oct 18 19:51 inputformat.in\n",
            "-rw-r--r-- 1 root root    468 Oct 18 21:31 tutor.in\n",
            "-rw-r--r-- 1 root root    117 Oct 18 20:52 tutor (1).out\n",
            "-rw-r--r-- 1 root root   1080 Oct 18 21:31 tutor.out\n",
            "-rw-r--r-- 1 root root    113 Oct 18 20:52 tutor.in.txt\n",
            "Testing input data\n",
            "Tutors\n",
            "0: Yonglu (Lulu) Zhang\n",
            "ALG1 GEO ALG2 PCALC BIO EARTH ENG9 ENG10 \n",
            "2 3 \n",
            "\n",
            "1: Kaitlin McCreadie\n",
            "ALG1 ALG2 EARTH WORLD USH ENG9 ENG10 \n",
            "10 11 12 \n",
            "\n",
            "2: Zach Pryor\n",
            "ALG1 ALG2 PCALC \n",
            "1 12 \n",
            "\n",
            "3: Kyle Cheng\n",
            "ALG1 GEO ECON ENG9 ENG10 \n",
            "2 3 \n",
            "\n",
            "4: Marcus Gozon\n",
            "CALC CSA APPHYS \n",
            "1 2 3 4 \n",
            "\n",
            "Students\n",
            "0: Ashton Odegaard\n",
            "ALG1 BIO WORLD ENG9 \n",
            "1 2 3 4 \n",
            "\n",
            "1: Stanley Ye\n",
            "CALC ECON \n",
            "2 3 4 5 \n",
            "\n",
            "2: Rida Albarkat \n",
            "GEO BIO WORLD ENG9 \n",
            "10 11 12 \n",
            "\n",
            "3: Neisja Brown\n",
            "ALG1 BIO WORLD \n",
            "1 3 \n",
            "\n",
            "Validating graph\n",
            "0: (1, 1) (2, 1) (3, 1) (4, 1) (5, 1) \n",
            "1: (0, 0) (9, 1) \n",
            "2: (0, 0) (7, 1) (8, 1) \n",
            "3: (0, 0) (6, 1) \n",
            "4: (0, 0) (7, 1) (8, 1) \n",
            "5: (0, 0) (7, 1) (8, 1) (9, 1) \n",
            "6: (10, 1) (3, 0) \n",
            "7: (10, 1) (2, 0) (4, 0) (5, 0) \n",
            "8: (10, 1) (2, 0) (4, 0) (5, 0) \n",
            "9: (10, 1) (1, 0) (5, 0) \n",
            "10: (6, 0) (7, 0) (8, 0) (9, 0) \n",
            "\n",
            "Graph by Names\n",
            "Marcus Gozon: (Stanley Ye, 1) \n",
            "Zach Pryor: (Neisja Brown, 1) (Ashton Odegaard, 1) \n",
            "Kaitlin McCreadie: (Rida Albarkat , 1) \n",
            "Yonglu (Lulu) Zhang: (Neisja Brown, 1) (Ashton Odegaard, 1) \n",
            "Kyle Cheng: (Neisja Brown, 1) (Ashton Odegaard, 1) (Stanley Ye, 1) \n",
            "Rida Albarkat : (Kaitlin McCreadie, 0) \n",
            "Neisja Brown: (Zach Pryor, 0) (Yonglu (Lulu) Zhang, 0) (Kyle Cheng, 0) \n",
            "Ashton Odegaard: (Zach Pryor, 0) (Yonglu (Lulu) Zhang, 0) (Kyle Cheng, 0) \n",
            "Stanley Ye: (Marcus Gozon, 0) (Kyle Cheng, 0) \n",
            "Here is what your document will look like: \n",
            "Tutors: \n",
            "\n",
            "Marcus Gozon: \n",
            "Stanley Ye (CALC) (2, 3, 4)\n",
            "\n",
            "Zach Pryor: \n",
            "Neisja Brown (ALG1) (1)\n",
            "Ashton Odegaard (ALG1) (1)\n",
            "\n",
            "Kaitlin McCreadie: \n",
            "Rida Albarkat  (WORLD, ENG9) (10, 11, 12)\n",
            "\n",
            "Yonglu (Lulu) Zhang: \n",
            "Neisja Brown (ALG1, BIO) (3)\n",
            "Ashton Odegaard (ALG1, BIO, ENG9) (2, 3)\n",
            "\n",
            "Kyle Cheng: \n",
            "Neisja Brown (ALG1) (3)\n",
            "Ashton Odegaard (ALG1, ENG9) (2, 3)\n",
            "Stanley Ye (ECON) (2, 3)\n",
            "\n",
            "Students: \n",
            "\n",
            "Rida Albarkat : \n",
            "Kaitlin McCreadie (WORLD, ENG9) (10, 11, 12)\n",
            "\n",
            "Neisja Brown: \n",
            "Zach Pryor (ALG1) (1)\n",
            "Yonglu (Lulu) Zhang (ALG1, BIO) (3)\n",
            "Kyle Cheng (ALG1) (3)\n",
            "\n",
            "Ashton Odegaard: \n",
            "Zach Pryor (ALG1) (1)\n",
            "Yonglu (Lulu) Zhang (ALG1, BIO, ENG9) (2, 3)\n",
            "Kyle Cheng (ALG1, ENG9) (2, 3)\n",
            "\n",
            "Stanley Ye: \n",
            "Marcus Gozon (CALC) (2, 3, 4)\n",
            "Kyle Cheng (ECON) (2, 3)\n",
            "\n",
            "----------------------------------------\n",
            "We can match at most 4 students\n",
            "Tutors: \n",
            "Marcus Gozon: Stanley Ye \n",
            "Zach Pryor: Ashton Odegaard \n",
            "Kaitlin McCreadie: Rida Albarkat  \n",
            "Yonglu (Lulu) Zhang: Neisja Brown \n",
            "Kyle Cheng: \n",
            "\n",
            "Students: \n",
            "Rida Albarkat : Kaitlin McCreadie \n",
            "Neisja Brown: Yonglu (Lulu) Zhang \n",
            "Ashton Odegaard: Zach Pryor \n",
            "Stanley Ye: Marcus Gozon \n",
            "\n"
          ],
          "name": "stdout"
        }
      ]
    },
    {
      "cell_type": "markdown",
      "metadata": {
        "id": "iehgZZdMQedJ"
      },
      "source": [
        "#Download Results"
      ]
    },
    {
      "cell_type": "markdown",
      "metadata": {
        "id": "aeXZ3PZA0OAF"
      },
      "source": [
        ""
      ]
    },
    {
      "cell_type": "code",
      "metadata": {
        "id": "iyduSOB4Qd7H",
        "outputId": "69646fa9-fe2a-459a-cc7e-c3c8277a4bdd",
        "colab": {
          "base_uri": "https://localhost:8080/",
          "height": 296
        }
      },
      "source": [
        "from google.colab import files\n",
        "files.download(\"tutor.out\")"
      ],
      "execution_count": null,
      "outputs": [
        {
          "output_type": "error",
          "ename": "FileNotFoundError",
          "evalue": "ignored",
          "traceback": [
            "\u001b[0;31m---------------------------------------------------------------------------\u001b[0m",
            "\u001b[0;31mFileNotFoundError\u001b[0m                         Traceback (most recent call last)",
            "\u001b[0;32m<ipython-input-2-32d4d80575c0>\u001b[0m in \u001b[0;36m<module>\u001b[0;34m()\u001b[0m\n\u001b[1;32m      1\u001b[0m \u001b[0;32mfrom\u001b[0m \u001b[0mgoogle\u001b[0m\u001b[0;34m.\u001b[0m\u001b[0mcolab\u001b[0m \u001b[0;32mimport\u001b[0m \u001b[0mfiles\u001b[0m\u001b[0;34m\u001b[0m\u001b[0;34m\u001b[0m\u001b[0m\n\u001b[0;32m----> 2\u001b[0;31m \u001b[0mfiles\u001b[0m\u001b[0;34m.\u001b[0m\u001b[0mdownload\u001b[0m\u001b[0;34m(\u001b[0m\u001b[0;34m\"tutor.out\"\u001b[0m\u001b[0;34m)\u001b[0m\u001b[0;34m\u001b[0m\u001b[0;34m\u001b[0m\u001b[0m\n\u001b[0m",
            "\u001b[0;32m/usr/local/lib/python3.6/dist-packages/google/colab/files.py\u001b[0m in \u001b[0;36mdownload\u001b[0;34m(filename)\u001b[0m\n\u001b[1;32m    141\u001b[0m       \u001b[0;32mraise\u001b[0m \u001b[0mOSError\u001b[0m\u001b[0;34m(\u001b[0m\u001b[0mmsg\u001b[0m\u001b[0;34m)\u001b[0m\u001b[0;34m\u001b[0m\u001b[0;34m\u001b[0m\u001b[0m\n\u001b[1;32m    142\u001b[0m     \u001b[0;32melse\u001b[0m\u001b[0;34m:\u001b[0m\u001b[0;34m\u001b[0m\u001b[0;34m\u001b[0m\u001b[0m\n\u001b[0;32m--> 143\u001b[0;31m       \u001b[0;32mraise\u001b[0m \u001b[0mFileNotFoundError\u001b[0m\u001b[0;34m(\u001b[0m\u001b[0mmsg\u001b[0m\u001b[0;34m)\u001b[0m  \u001b[0;31m# pylint: disable=undefined-variable\u001b[0m\u001b[0;34m\u001b[0m\u001b[0;34m\u001b[0m\u001b[0m\n\u001b[0m\u001b[1;32m    144\u001b[0m \u001b[0;34m\u001b[0m\u001b[0m\n\u001b[1;32m    145\u001b[0m   \u001b[0mcomm_manager\u001b[0m \u001b[0;34m=\u001b[0m \u001b[0m_IPython\u001b[0m\u001b[0;34m.\u001b[0m\u001b[0mget_ipython\u001b[0m\u001b[0;34m(\u001b[0m\u001b[0;34m)\u001b[0m\u001b[0;34m.\u001b[0m\u001b[0mkernel\u001b[0m\u001b[0;34m.\u001b[0m\u001b[0mcomm_manager\u001b[0m\u001b[0;34m\u001b[0m\u001b[0;34m\u001b[0m\u001b[0m\n",
            "\u001b[0;31mFileNotFoundError\u001b[0m: Cannot find file: tutor.out"
          ]
        }
      ]
    },
    {
      "cell_type": "code",
      "metadata": {
        "id": "BBHJTAj-0PBG"
      },
      "source": [
        "5\n",
        "Yonglu (Lulu) Zhang\n",
        "8 2\n",
        "ALG1 GEO ALG2 PCALC BIO EARTH ENG9 ENG10\n",
        "2 3\n",
        "Kaitlin McCreadie\n",
        "7 3\n",
        "ALG1 ALG2 EARTH WORLD USH ENG9 ENG10\n",
        "10 11 12\n",
        "Zach Pryor\n",
        "3 2\n",
        "ALG1 ALG2 PCALC\n",
        "12 1\n",
        "Kyle Cheng\n",
        "5 2\n",
        "ALG1 GEO ECON ENG9 ENG10\n",
        "2 3\n",
        "Marcus Gozon\n",
        "3 4\n",
        "CALC CSA APPHYS\n",
        "1 2 3 4\n",
        "4\n",
        "Ashton Odegaard\n",
        "4 4\n",
        "ALG1 BIO WORLD ENG9\n",
        "1 2 3 4\n",
        "Stanley Ye\n",
        "2 4\n",
        "CALC ECON\n",
        "2 3 4 5\n",
        "Rida Albarkat \n",
        "4 3\n",
        "GEO BIO WORLD ENG9\n",
        "10 11 12\n",
        "Neisja Brown\n",
        "3 2\n",
        "ALG1 BIO WORLD\n",
        "1 3\n",
        "\n",
        "\n"
      ],
      "execution_count": null,
      "outputs": []
    }
  ]
}